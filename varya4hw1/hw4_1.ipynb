{
 "cells": [
  {
   "cell_type": "code",
   "execution_count": 1,
   "metadata": {},
   "outputs": [],
   "source": [
    "import sqlite3\n",
    "import random\n",
    "import pandas\n",
    "import matplotlib.pyplot as plt\n",
    "%matplotlib inline\n",
    "import seaborn as sns"
   ]
  },
  {
   "cell_type": "markdown",
   "metadata": {},
   "source": [
    "В эксперименте информантам показываются слова, и они должны определить, является ли слово словом из русского языка, или оно придуманное.\n",
    "\n",
    "Получается есть ответы [слово, не слово] и время реакции.\n",
    "\n",
    "Про информантов есть мета-информация - возраст, пол, город рождения, последняя ступень образования.\n",
    "\n",
    "Структура базы данных:\n",
    "* participants: id_part, age, sex, city, edu\n",
    "* words: id_word, word, is_word\n",
    "* answers: id_ans, id_word, id_part, is_word, time\n",
    "\n",
    "\n",
    "Я считаю, что имена информантов брать не надо, достаточно их id"
   ]
  },
  {
   "cell_type": "markdown",
   "metadata": {},
   "source": [
    "### Создаем таблицы в базе данных"
   ]
  },
  {
   "cell_type": "code",
   "execution_count": 3,
   "metadata": {},
   "outputs": [],
   "source": [
    "con = sqlite3.connect('experiment.db')\n",
    "c = con.cursor()"
   ]
  },
  {
   "cell_type": "code",
   "execution_count": 59,
   "metadata": {},
   "outputs": [
    {
     "data": {
      "text/plain": [
       "<sqlite3.Cursor at 0x2b15207d0a0>"
      ]
     },
     "execution_count": 59,
     "metadata": {},
     "output_type": "execute_result"
    }
   ],
   "source": [
    "c.execute(f\"\"\"\n",
    "           CREATE TABLE IF NOT EXISTS\n",
    "           participants(id_part integer,\n",
    "                        age integer,\n",
    "                        sex text,\n",
    "                        city text,\n",
    "                        edu text)\"\"\")\n",
    "\n",
    "c.execute(f\"\"\"\n",
    "           CREATE TABLE IF NOT EXISTS\n",
    "           words(id_word integer,\n",
    "                        word text,\n",
    "                        is_word integer)\"\"\")\n",
    "\n",
    "c.execute(f\"\"\"\n",
    "           CREATE TABLE IF NOT EXISTS\n",
    "           answers(id_ans integer,\n",
    "                   id_word integer,\n",
    "                   id_part integer,\n",
    "                   is_word integer,\n",
    "                   time integer)\"\"\")"
   ]
  },
  {
   "cell_type": "markdown",
   "metadata": {},
   "source": [
    "### Генерируем информациюи загружаем в базу данных."
   ]
  },
  {
   "cell_type": "code",
   "execution_count": 23,
   "metadata": {},
   "outputs": [],
   "source": [
    "words = [('собака',1),('субака',0),('цент',1),('парашут',1),('кокукола',0)]\n",
    "sexes = ['f','m']\n",
    "cities = ['Москва','СПб','Тюмень','Грозный','Казань','Красноярск','Краснодар','Уфа','Севастополь','Владивосток','Новосибирск']\n",
    "edus = ['высшее','среднее общее','среднее профессиональное']"
   ]
  },
  {
   "cell_type": "code",
   "execution_count": 24,
   "metadata": {},
   "outputs": [
    {
     "data": {
      "text/plain": [
       "<sqlite3.Cursor at 0x2b15207d0a0>"
      ]
     },
     "execution_count": 24,
     "metadata": {},
     "output_type": "execute_result"
    }
   ],
   "source": [
    "participants = []\n",
    "for i in range(100):\n",
    "    age = random.randint(18,80)\n",
    "    sex = random.choice(sexes)\n",
    "    city = random.choice(cities)\n",
    "    edu = random.choice(edus)\n",
    "    participants.append((i,age,sex,city,edu))\n",
    "\n",
    "c.executemany(f\"INSERT INTO participants VALUES (?, ?, ?, ?, ?)\", participants)"
   ]
  },
  {
   "cell_type": "code",
   "execution_count": 25,
   "metadata": {},
   "outputs": [
    {
     "data": {
      "text/plain": [
       "<sqlite3.Cursor at 0x2b15207d0a0>"
      ]
     },
     "execution_count": 25,
     "metadata": {},
     "output_type": "execute_result"
    }
   ],
   "source": [
    "words = [(i, word, is_word) for i, (word, is_word) in enumerate(words)]\n",
    "\n",
    "c.executemany(f\"INSERT INTO words VALUES (?, ?, ?)\", words)"
   ]
  },
  {
   "cell_type": "code",
   "execution_count": 26,
   "metadata": {},
   "outputs": [],
   "source": [
    "import itertools"
   ]
  },
  {
   "cell_type": "code",
   "execution_count": 27,
   "metadata": {},
   "outputs": [
    {
     "data": {
      "text/plain": [
       "<sqlite3.Cursor at 0x2b15207d0a0>"
      ]
     },
     "execution_count": 27,
     "metadata": {},
     "output_type": "execute_result"
    }
   ],
   "source": [
    "answers = []\n",
    "for id_answer, (id_word, id_part) in enumerate(itertools.product(range(len(words)),range(len(participants)))):\n",
    "    is_word = random.randint(0,1)\n",
    "    time = random.randint(20,400)\n",
    "    answers.append((id_answer, id_word, id_part, is_word, time))\n",
    "\n",
    "c.executemany(f\"INSERT INTO answers VALUES (?, ?, ?, ?, ?)\", answers) "
   ]
  },
  {
   "cell_type": "markdown",
   "metadata": {},
   "source": [
    "### Делаем запросы"
   ]
  },
  {
   "cell_type": "markdown",
   "metadata": {},
   "source": [
    "Хочу посмотреть сколько участников из Москвы"
   ]
  },
  {
   "cell_type": "code",
   "execution_count": 61,
   "metadata": {},
   "outputs": [
    {
     "name": "stdout",
     "output_type": "stream",
     "text": [
      "8 people from Moscow\n"
     ]
    }
   ],
   "source": [
    "moscow = c.execute(\n",
    "    '''SELECT * FROM participants WHERE city = 'Москва';'''\n",
    ")\n",
    "print(len(list(moscow)), 'people from Moscow')"
   ]
  },
  {
   "cell_type": "markdown",
   "metadata": {},
   "source": [
    "Хочу посмотреть среднее время реакции для жителей разных городов"
   ]
  },
  {
   "cell_type": "code",
   "execution_count": 75,
   "metadata": {},
   "outputs": [
    {
     "name": "stdout",
     "output_type": "stream",
     "text": [
      "Average answer time for Владивосток is 193.33\n",
      "Average answer time for Севастополь is 199.36\n",
      "Average answer time for Грозный is 200.88\n",
      "Average answer time for Краснодар is 205.29\n",
      "Average answer time for Новосибирск is 205.76\n",
      "Average answer time for Уфа is 209.65\n",
      "Average answer time for Москва is 209.80\n",
      "Average answer time for Тюмень is 212.43\n",
      "Average answer time for Красноярск is 225.47\n",
      "Average answer time for СПб is 226.00\n",
      "Average answer time for Казань is 247.31\n"
     ]
    }
   ],
   "source": [
    "city_answers = c.execute(\n",
    "    '''SELECT avg(time) as avg_time, participants.city FROM answers\n",
    "    JOIN participants ON answers.id_part = participants.id_part\n",
    "    GROUP BY participants.city\n",
    "    ORDER BY avg_time;'''\n",
    ")\n",
    "\n",
    "for time, city in city_answers:\n",
    "    print('Average answer time for', city, 'is {:.2f}'.format(time))"
   ]
  },
  {
   "cell_type": "markdown",
   "metadata": {},
   "source": [
    "Обновляю образование у людей моложе 22"
   ]
  },
  {
   "cell_type": "code",
   "execution_count": 74,
   "metadata": {},
   "outputs": [
    {
     "data": {
      "text/plain": [
       "<sqlite3.Cursor at 0x2b15207d0a0>"
      ]
     },
     "execution_count": 74,
     "metadata": {},
     "output_type": "execute_result"
    }
   ],
   "source": [
    "c.execute(\n",
    "    '''UPDATE participants SET edu = 'высшее не законченное'\n",
    "    WHERE age < 22;'''\n",
    ")"
   ]
  },
  {
   "cell_type": "code",
   "execution_count": 110,
   "metadata": {},
   "outputs": [],
   "source": [
    "con.commit()"
   ]
  },
  {
   "cell_type": "markdown",
   "metadata": {},
   "source": [
    "Выгружаю ответы на первый вопрос и группирую их по полу участника"
   ]
  },
  {
   "cell_type": "code",
   "execution_count": 105,
   "metadata": {},
   "outputs": [],
   "source": [
    "sex_answers = c.execute(\n",
    "    '''SELECT words.id_word, answers.time, participants.sex\n",
    "    FROM answers JOIN participants ON participants.id_part = answers.id_part\n",
    "    JOIN words ON words.id_word = answers.id_word\n",
    "    WHERE words.id_word == 0;\n",
    "    '''\n",
    ")"
   ]
  },
  {
   "cell_type": "code",
   "execution_count": 106,
   "metadata": {},
   "outputs": [],
   "source": [
    "sex_answers = list(sex_answers)\n",
    "sex_answers = {'time':[answer[1] for answer in sex_answers],\n",
    "              'sex':[answer[2] for answer in sex_answers]}"
   ]
  },
  {
   "cell_type": "code",
   "execution_count": 109,
   "metadata": {},
   "outputs": [
    {
     "data": {
      "image/png": "[encoded data removed]",
      "text/plain": [
       "<Figure size 720x432 with 1 Axes>"
      ]
     },
     "metadata": {
      "needs_background": "light"
     },
     "output_type": "display_data"
    }
   ],
   "source": [
    "plt.figure(figsize=(10, 6))\n",
    "sns.boxplot(x=\"sex\", y=\"time\", data=sex_answers)\n",
    "plt.title('Time of reaction by sex')\n",
    "plt.ylabel('time')\n",
    "plt.xlabel('sex');"
   ]
  },
  {
   "cell_type": "code",
   "execution_count": 111,
   "metadata": {},
   "outputs": [],
   "source": [
    "con.close()"
   ]
  },
  {
   "cell_type": "code",
   "execution_count": null,
   "metadata": {},
   "outputs": [],
   "source": []
  }
 ],
 "metadata": {
  "kernelspec": {
   "display_name": "Python 3",
   "language": "python",
   "name": "python3"
  },
  "language_info": {
   "codemirror_mode": {
    "name": "ipython",
    "version": 3
   },
   "file_extension": ".py",
   "mimetype": "text/x-python",
   "name": "python",
   "nbconvert_exporter": "python",
   "pygments_lexer": "ipython3",
   "version": "3.6.8"
  }
 },
 "nbformat": 4,
 "nbformat_minor": 2
}
